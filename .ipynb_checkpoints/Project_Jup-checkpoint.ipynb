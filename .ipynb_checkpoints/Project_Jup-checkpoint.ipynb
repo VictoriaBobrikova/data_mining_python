{
 "cells": [
  {
   "cell_type": "code",
   "execution_count": 22,
   "metadata": {},
   "outputs": [],
   "source": [
    "from bs4 import BeautifulSoup\n",
    "from fake_useragent import UserAgent\n",
    "import requests\n",
    "import time\n",
    "import csv\n",
    "import matplotlib.pyplot as plt\n",
    "import numpy as np"
   ]
  },
  {
   "cell_type": "code",
   "execution_count": 4,
   "metadata": {
    "collapsed": true
   },
   "outputs": [],
   "source": [
    "def user_parser (j, id):\n",
    "    url = \"https://api.vk.com/method/users.get.xml?user_ids=\"+id[1:]+\"&fields=home_town\"\n",
    "    r = requests.get(url)\n",
    "    page = BeautifulSoup(r.text, 'html.parser')\n",
    "    try:\n",
    "        answer = [{'number': str(j),'url': id, 'id': page.uid.get_text(), 'home town': page.home_town.get_text()}]\n",
    "    except AttributeError:\n",
    "        answer = [{'number': str(j),'url': id, 'id': page.uid.get_text(), 'home town': 'Error'}]\n",
    "    try:\n",
    "        writer.writerows(answer)\n",
    "    except UnicodeEncodeError:\n",
    "        answer = [{'number': str(j), 'url': id, 'id': page.uid.get_text(), 'home town': 'Mudak'}]\n",
    "        writer.writerows(answer)\n",
    "    time.sleep(0.33)"
   ]
  },
  {
   "cell_type": "code",
   "execution_count": 5,
   "metadata": {},
   "outputs": [
    {
     "name": "stdout",
     "output_type": "stream",
     "text": [
      "Mozilla/5.0 (Macintosh; Intel Mac OS X 10_8_0) AppleWebKit/537.36 (KHTML, like Gecko) Chrome/32.0.1664.3 Safari/537.36\n",
      "{'User-Agent': 'Mozilla/5.0 (Windows NT 4.0; WOW64) AppleWebKit/537.36 (KHTML, like Gecko) Chrome/37.0.2049.0 Safari/537.36'}\n"
     ]
    }
   ],
   "source": [
    "ua = UserAgent()\n",
    "print(ua.chrome)\n",
    "header = {'User-Agent':str(ua.chrome)}\n",
    "print(header)"
   ]
  },
  {
   "cell_type": "code",
   "execution_count": null,
   "metadata": {
    "collapsed": true
   },
   "outputs": [],
   "source": [
    "path = \"Home_Town.csv\"\n",
    "j=0\n",
    "bdate=17\n",
    "\n",
    "answer = [{'number': 'dict','url': 'dict', 'id': 'dict', 'home town': 'dict'}]\n",
    "with open(path, 'w', newline='') as file:\n",
    "    writer = csv.DictWriter(file, fieldnames=answer[0])\n",
    "    writer.writeheader()\n",
    "    while bdate<=25:\n",
    "        sex=1\n",
    "        while sex<=2:\n",
    "            i=1\n",
    "            while i<=48:\n",
    "                if i==0:\n",
    "                    url = \"https://vk.com/search?c%5Bage_from%5D=\"+str(bdate)+\"&c%5Bage_to%5D=\"+str(bdate)+\"&c%5Bcity%5D=2&c%5Bcountry%5D=1&c%5Bname%5D=1&c%5Bper_page%5D=40&c%5Bphoto%5D=1&c%5Bsection%5D=people&c%5Bsex%5D=\"+str(sex)+\"&c%5Buniversity%5D=56&offset=0\"\n",
    "                else:\n",
    "                    url = \"https://vk.com/search?c%5Bage_from%5D=\"+str(bdate)+\"&c%5Bage_to%5D=\"+str(bdate)+\"&c%5Bcity%5D=2&c%5Bcountry%5D=1&c%5Bname%5D=1&c%5Bper_page%5D=40&c%5Bphoto%5D=1&c%5Bsection%5D=people&c%5Bsex%5D=\"+str(sex)+\"&c%5Buniversity%5D=56&offset=\"+str(20+i*20)\n",
    "                r=requests.get(url, headers=header)\n",
    "                print(r.ok)\n",
    "                page = BeautifulSoup(r.text, 'html.parser')\n",
    "                #print(page.prettify())\n",
    "                tags=page.findAll(\"div\", {\"class\":\"labeled name\"})\n",
    "                #print (tags)\n",
    "                print('Page', i+1)\n",
    "                for tag in tags:\n",
    "                    some=tag.findAll(\"a\", {\"class\": None})\n",
    "                    for link in some:\n",
    "                        j=j+1\n",
    "                        print (j,')' ,link.get('href'))\n",
    "                        user_parser(j, link.get('href'))\n",
    "                i=i+1\n",
    "                time.sleep(0.33)\n",
    "            sex=sex+1\n",
    "        bdate=bdate+1"
   ]
  },
  {
   "cell_type": "code",
   "execution_count": 18,
   "metadata": {},
   "outputs": [
    {
     "name": "stdout",
     "output_type": "stream",
     "text": [
      "[[1251, 'Санкт-Петербург'], [21, 'Норильск'], [21, 'Мурманск'], [19, 'Уфа'], [18, 'Екатеринбург'], [17, 'Челябинск'], [16, 'Тольятти'], [16, 'Сургут'], [16, 'Северодвинск'], [15, 'Череповец'], [15, 'Архангельск'], [14, 'Петрозаводск'], [13, 'Краснодар'], [13, 'Владивосток'], [11, 'Хабаровск'], [11, 'Набережные Челны'], [11, 'Москва'], [11, 'Колпино'], [11, 'Брянск'], [11, 'Барнаул'], [10, 'Якутск'], [10, 'Уральск'], [10, 'Сыктывкар'], [10, 'Самара'], [10, 'Омск'], [10, 'Магнитогорск'], [10, 'Костанай'], [10, 'Кемерово'], [9, 'Ставрополь'], [9, 'Сочи'], [9, 'Смоленск'], [9, 'Оренбург'], [9, 'Мирный'], [9, 'Калининград'], [9, 'Гатчина'], [9, 'Выборг'], [9, 'Великий Новгород'], [9, 'Saint-P'], [9, 'Cанкт-Петербург'], [8, 'Торжок'], [8, 'Тихвин'], [8, 'СПБ'], [8, 'Петропавловск-Камчатский'], [8, 'Нижневартовск'], [8, 'Донецк'], [8, 'Великие Луки'], [8, 'Алматы'], [7, 'Ярославль'], [7, 'Ухта'], [7, 'Псков'], [7, 'Пермь'], [7, 'Орск'], [7, 'Новосибирск'], [7, 'Новокузнецк'], [7, 'Красноярск'], [7, 'Иркутск'], [6, 'Южно-Сахалинск'], [6, 'Усть-Каменогорск'], [6, 'Тверь'], [6, 'Сосновый Бор'], [6, 'Пятигорск'], [6, 'Ноябрьск'], [6, 'Находка'], [6, 'Ленинград'], [6, 'Киров'], [6, 'Казань'], [6, 'Воронеж'], [6, 'Вологда'], [6, 'Ангарск'], [6, 'St. Petersburg'], [5, 'спб'], [5, 'питер'], [5, 'Тосно'], [5, 'Североморск'], [5, 'Рыбинск'], [5, 'Рудный'], [5, 'Пенза'], [5, 'Нижнекамск'], [5, 'Магадан'], [5, 'Кировск'], [5, 'Елизово'], [5, 'Волгоград'], [5, 'Белорецк'], [5, 'Актобе'], [5, 'SPB'], [4, 'Чайковский'], [4, 'Туапсе'], [4, 'Томск'], [4, 'Ташкент'], [4, 'Рязань'], [4, 'Россия'], [4, 'Пушкин'], [4, 'Приозерск'], [4, 'Полярные Зори'], [4, 'Новороссийск'], [4, 'Новодвинск'], [4, 'Нальчик'], [4, 'Кострома'], [4, 'Коряжма'], [4, 'Комсомольск-на-Амуре'], [4, 'Иваново'], [4, 'Зея'], [4, 'Ессентуки'], [4, 'Астана'], [4, 'Актау'], [4, 'Saint Petersburg'], [3, 'Шымкент'], [3, 'Чита'], [3, 'Чебоксары'], [3, 'Ульяновск'], [3, 'Улан-Удэ'], [3, 'Тюмень'], [3, 'Спб'], [3, 'Севастополь'], [3, 'Санкт-Петербург.'], [3, 'Салехард'], [3, 'САНКТ-ПЕТЕРБУРГ'], [3, 'Нижний Тагил'], [3, 'Нефтеюганск'], [3, 'Надым'], [3, 'Липецк'], [3, 'Котлас'], [3, 'Кирово-Чепецк'], [3, 'Караганда'], [3, 'Кандалакша'], [3, 'Кадуй'], [3, 'Йошкар-Ола'], [3, 'Ижевск'], [3, 'Златоуст'], [3, 'Железногорск'], [3, 'Гомель'], [3, 'Глазов'], [3, 'Вышний Волочек'], [3, 'Братск'], [3, 'Благовещенск'], [3, 'Бишкек'], [3, 'Баку'], [3, 'Астрахань'], [3, 'Армавир'], [3, 'St.Petersburg'], [2, 'санкт петербург'], [2, 'россия'], [2, 'омск'], [2, 'ленинград'], [2, 'колпино'], [2, 'город над вольной Невой'], [2, 'Ялта'], [2, 'Энгельс'], [2, 'Шарья'], [2, 'Черняховск'], [2, 'Харовск'], [2, 'Феодосия'], [2, 'Удомля'], [2, 'Тула'], [2, 'Тихорецк'], [2, 'Таганрог'], [2, 'Стерлитамак'], [2, 'Сочи, Санкт-Петербург'], [2, 'Сосновый бор'], [2, 'Сортавала'], [2, 'Соликамск'], [2, 'Сибай'], [2, 'Сегежа'], [2, 'Северная Пальмира'], [2, 'Саяногорск'], [2, 'Сахалин'], [2, 'Саров'], [2, 'Саратов'], [2, 'Саранск'], [2, 'Санкт_Петербург'], [2, 'Санкт-Петербург, Колпино'], [2, 'Санкт-Петербуг'], [2, 'Санкт петербург'], [2, 'С-Пб'], [2, 'Рига'], [2, 'Прокопьевск'], [2, 'Пошехонье'], [2, 'Павловск'], [2, 'Орёл'], [2, 'Орел'], [2, 'Одесса'], [2, 'Новый Уренгой'], [2, 'Новочеркасск'], [2, 'Новочебоксарск'], [2, 'Николаев'], [2, 'Нижний Новгород'], [2, 'Нефтекумск'], [2, 'Нефтекамск'], [2, 'Муром'], [2, 'Мончегорск'], [2, 'Могилев'], [2, 'Минск'], [2, 'Междуреченск'], [2, 'Мегион'], [2, 'Лянтор'], [2, 'Луга'], [2, 'Лесной'], [2, 'Кумертау'], [2, 'Краснотурьинск'], [2, 'Котово'], [2, 'Кондопога'], [2, 'Комсомольск-на-амуре'], [2, 'Когалым'], [2, 'Клайпеда'], [2, 'Кингисепп'], [2, 'Киев'], [2, 'Кемь'], [2, 'Канск'], [2, 'Каменск-Уральский'], [2, 'Ишимбай'], [2, 'Исфара'], [2, 'Зеленогорск'], [2, 'Ереван'], [2, 'Душанбе'], [2, 'Гусев'], [2, 'Гродно'], [2, 'Город на Неве'], [2, 'Галич'], [2, 'Всеволожск'], [2, 'Воркута'], [2, 'Волхов'], [2, 'Вилючинск'], [2, 'Биробиджан'], [2, 'Бельцы'], [2, 'Белореченск'], [2, 'Белгород'], [2, 'Балаково'], [2, 'Атырау'], [2, 'Арсеньев'], [2, 'Апатиты'], [2, 'Андреаполь'], [2, 'Анапа'], [2, 'Альметьевск'], [2, 'Абинск'], [2, 'Ulyanovsk'], [2, 'St.-Petersburg'], [2, 'Saint-P.'], [2, 'Saint Petesburg'], [2, 'Saint P.'], [2, 'Piter'], [2, 'Daugavpils'], [2, 'Cанкт-петербург']]\n"
     ]
    }
   ],
   "source": [
    "path = \"Home_Town.csv\"\n",
    "users = []\n",
    "cities = []\n",
    "with open(path, \"r\", newline=\"\") as file:\n",
    "    reader = csv.reader(file)\n",
    "    i=0\n",
    "    for row in reader:\n",
    "        if row[3] == \"Error\" or row[3] == '' or row[3] == \"Mudak\":\n",
    "            i=i\n",
    "        elif i==0:\n",
    "            users.append(row)\n",
    "            #print(row)\n",
    "            i = i + 1\n",
    "        else:\n",
    "            row[0]=i\n",
    "            users.append(row)\n",
    "            #print(row)\n",
    "            i=i+1\n",
    "\n",
    "for j in range(len(users)):\n",
    "    if          users[j][3] == 'Санкт - Петербург' or \\\n",
    "                users[j][3] == 'Санкт Петербург' or\\\n",
    "                users[j][3] == 'СПб' or\\\n",
    "                users[j][3] == 'Питер' or\\\n",
    "                users[j][3] == 'Saint-Petersburg' or \\\n",
    "                users[j][3] == 'Петербург' or \\\n",
    "                users[j][3] == 'Санкт-петербург' or \\\n",
    "                users[j][3] == 'Санкт- Петербург' or \\\n",
    "                users[j][3] == 'Санкт-Петербург ' or\\\n",
    "                users[j][3] == 'санкт-петербург':\n",
    "        cities.append('Санкт-Петербург')\n",
    "    else:\n",
    "        cities.append(users[j][3])\n",
    "c=list(set(cities))\n",
    "\n",
    "for i in range(len(c)):  #считаем города, которые встречаются один раз, мусором и статистически не важными. Удаляем мусор\n",
    "    if cities.count(c[i])==1:\n",
    "        cities.remove(c[i])\n",
    "c=list(set(cities))\n",
    "\n",
    "c1=[]\n",
    "calc=[]\n",
    "for i in range(len(c)):\n",
    "    c1.append(cities.count(c[i]))\n",
    "for i in range(len(c)):\n",
    "    calc.append([c1[i],c[i]])\n",
    "calc.sort(reverse=True)\n",
    "print(calc)"
   ]
  },
  {
   "cell_type": "code",
   "execution_count": 25,
   "metadata": {},
   "outputs": [
    {
     "name": "stdout",
     "output_type": "stream",
     "text": [
      "['Санкт-Петербург', 'Норильск', 'Мурманск', 'Уфа', 'Екатеринбург', 'Челябинск', 'Тольятти', 'Сургут', 'Северодвинск', 'Череповец']\n",
      "[1251, 21, 21, 19, 18, 17, 16, 16, 16, 15]\n"
     ]
    }
   ],
   "source": [
    "city=[]\n",
    "city_num=[]\n",
    "for i in range(10):\n",
    "    city_num.append(calc[i][0])\n",
    "    city.append(calc[i][1])\n",
    "print(city)\n",
    "print(city_num)"
   ]
  },
  {
   "cell_type": "code",
   "execution_count": 36,
   "metadata": {},
   "outputs": [
    {
     "data": {
      "image/png": "[encoded data removed]",
      "text/plain": [
       "<matplotlib.figure.Figure at 0x3909ff1198>"
      ]
     },
     "metadata": {},
     "output_type": "display_data"
    }
   ],
   "source": [
    "fig = plt.figure()\n",
    "axes = fig.add_subplot (1, 1, 1)\n",
    "plt.barh(city, city_num, align='center', color='orange')\n",
    "axes.set_xscale ('linear')\n",
    "plt.title('Simple bar chart')\n",
    "plt.grid(True)   # линии вспомогательной сетки\n",
    "plt.show()"
   ]
  }
 ],
 "metadata": {
  "kernelspec": {
   "display_name": "Python 3",
   "language": "python",
   "name": "python3"
  },
  "language_info": {
   "codemirror_mode": {
    "name": "ipython",
    "version": 3
   },
   "file_extension": ".py",
   "mimetype": "text/x-python",
   "name": "python",
   "nbconvert_exporter": "python",
   "pygments_lexer": "ipython3",
   "version": "3.6.3"
  }
 },
 "nbformat": 4,
 "nbformat_minor": 2
}
